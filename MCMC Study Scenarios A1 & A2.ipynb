{
 "cells": [
  {
   "cell_type": "code",
   "execution_count": null,
   "metadata": {},
   "outputs": [],
   "source": [
    "import numpy as np\n",
    "import pandas as pd\n",
    "from scipy.stats import norm, uniform\n",
    "from kan import *\n",
    "import torch\n",
    "from scipy.stats import multivariate_normal\n",
    "import matplotlib.pyplot as plt\n",
    "import matplotlib.gridspec as gridspec"
   ]
  },
  {
   "cell_type": "code",
   "execution_count": null,
   "metadata": {},
   "outputs": [],
   "source": [
    "plt.rcParams.update({\n",
    "    'font.size': 12,               # Font size\n",
    "    'axes.labelsize': 15,          # Label size\n",
    "    'axes.titlesize': 15,          # Title size\n",
    "    'axes.linewidth': 1.2,         # Axis line width\n",
    "    'xtick.labelsize': 10,         # Size of x-axis tick labels\n",
    "    'ytick.labelsize': 10,         # Size of y-axis tick labels\n",
    "    'xtick.major.size': 6,         # Length of major ticks on the x-axis\n",
    "    'ytick.major.size': 6,         # Length of major ticks on the y-axis\n",
    "    'xtick.major.width': 1.0,      # Width of major ticks on the x-axis\n",
    "    'ytick.major.width': 1.0,      # Width of major ticks on the y-axis\n",
    "    'figure.dpi': 300,             # Image resolution\n",
    "    'savefig.dpi': 300,            # Resolution for saving figures\n",
    "    'figure.figsize': (12, 5),     # Figure size\n",
    "})"
   ]
  },
  {
   "cell_type": "markdown",
   "metadata": {},
   "source": [
    "## Scenario A1"
   ]
  },
  {
   "cell_type": "markdown",
   "metadata": {},
   "source": [
    "### $I_{u, x} \\mid \\, Y_{x} > u \\sim \\text{Bern}\\{m_{\\text{A}1}(x; u)\\}$"
   ]
  },
  {
   "cell_type": "code",
   "execution_count": null,
   "metadata": {},
   "outputs": [],
   "source": [
    "def MC_A1(M, n):\n",
    "    x_cl = np.linspace(0, 1, 1000)\n",
    "    u_quantile = 0.95\n",
    "    probabilities_all = []\n",
    "\n",
    "    for i in range(M):\n",
    "        np.random.seed(i)\n",
    "\n",
    "        # X ~ U(0,1)\n",
    "        X = uniform.rvs(loc=0, scale=1, size=n)\n",
    "\n",
    "        # Y_X ~ Unit Fréchet\n",
    "        U = np.random.uniform(0, 1, size=n)\n",
    "        Y_X = 1 / -np.log(n / (n + 1) * U)\n",
    "\n",
    "        u  = np.quantile(Y_X, u_quantile)\n",
    "        mask = Y_X > u\n",
    "        X_masked = X[mask]\n",
    "        Phi_X_masked = norm.cdf(X_masked, loc=np.exp(-u), scale=1)\n",
    "        I_X = np.zeros(n, dtype=int)\n",
    "        I_X[mask] = np.random.binomial(1, Phi_X_masked)\n",
    "\n",
    "        # Dataframe\n",
    "        df = pd.DataFrame({'X': X, 'Y_X': Y_X, 'I_X': I_X})\n",
    "        df_sorted = df.sort_values('X')\n",
    "        df_sim = df_sorted[df_sorted['Y_X'] > u]\n",
    "\n",
    "        # Neural inputs\n",
    "        x_train_cl = df_sim['X'].values\n",
    "        y_train_cl = df_sim['I_X'].values\n",
    "\n",
    "        x_train_tensor = torch.tensor(x_train_cl, dtype=torch.float32).view(-1, 1)\n",
    "        y_train_tensor = torch.tensor(y_train_cl, dtype=torch.long)\n",
    "\n",
    "        model = KAN(width=[1, 2], grid=2, k=2)\n",
    "\n",
    "        dataset = {\n",
    "            'train_input': x_train_tensor,\n",
    "            'train_label': y_train_tensor,\n",
    "            'test_input': x_train_tensor,\n",
    "            'test_label': y_train_tensor\n",
    "        }\n",
    "\n",
    "        model.fit(dataset, opt=\"LBFGS\", steps=100, loss_fn=torch.nn.CrossEntropyLoss())\n",
    "\n",
    "        x_cl_tensor = torch.tensor(x_cl, dtype=torch.float32).view(-1, 1) \n",
    "        with torch.no_grad():\n",
    "            Z = model(x_cl_tensor)\n",
    "            Z = torch.softmax(Z, dim=1)\n",
    "            probabilities1 = Z[:, 1].numpy()\n",
    "        \n",
    "        probabilities_all.append(probabilities1)\n",
    "\n",
    "    probabilities_all = np.array(probabilities_all)\n",
    "    \n",
    "    return probabilities_all, x_cl\n"
   ]
  },
  {
   "cell_type": "code",
   "execution_count": null,
   "metadata": {},
   "outputs": [],
   "source": [
    "probabilities_all_1, x_cl = MC_A1(500, 5000)"
   ]
  },
  {
   "cell_type": "code",
   "execution_count": null,
   "metadata": {},
   "outputs": [],
   "source": [
    "monte_carlo_mean = np.mean(probabilities_all_1, axis=0)\n",
    "Phi_x_cl = norm.cdf(x_cl)\n",
    "\n",
    "squared_difference = (monte_carlo_mean - Phi_x_cl) ** 2\n",
    "mise = np.trapz(squared_difference, x_cl)\n",
    "\n",
    "print('MISE: ' + str(mise))"
   ]
  },
  {
   "cell_type": "code",
   "execution_count": null,
   "metadata": {},
   "outputs": [],
   "source": [
    "fig, ax = plt.subplots(figsize=(6, 4))\n",
    "\n",
    "for probs in probabilities_all_1:\n",
    "    ax.plot(x_cl, probs, color='gray', linewidth=1, alpha = 0.1)\n",
    "\n",
    "ax.plot(x_cl, monte_carlo_mean, color='red', linewidth=2)\n",
    "\n",
    "Phi_x_cl = norm.cdf(x_cl)\n",
    "ax.plot(x_cl, Phi_x_cl, color='black', linewidth=2, linestyle='--')\n",
    "\n",
    "ax.set_xlabel(r'$x$', fontsize=12) \n",
    "ax.set_ylabel(r'$\\alpha_I(x)$', fontsize=12)\n",
    "ax.set_ylim(0, 1)\n",
    "\n",
    "plt.show()"
   ]
  },
  {
   "cell_type": "markdown",
   "metadata": {},
   "source": [
    "## Scenario A2"
   ]
  },
  {
   "cell_type": "markdown",
   "metadata": {},
   "source": [
    "### $I_{u, x} \\mid \\, Y_{x} > u \\sim \\text{Bern}\\{m_{\\text{A}2}(x; u)\\}$"
   ]
  },
  {
   "cell_type": "code",
   "execution_count": null,
   "metadata": {},
   "outputs": [],
   "source": [
    "def MC_A2(M, n):\n",
    "    x_cl = np.linspace(0, 1, 1000)\n",
    "    u_quantile = 0.95\n",
    "    probabilities_all = []\n",
    "\n",
    "    for i in range(M):\n",
    "        np.random.seed(i)\n",
    "\n",
    "        # X ~ U(0,1)\n",
    "        X = uniform.rvs(loc=0, scale=1, size=n)\n",
    "\n",
    "        # Y_X ~ Unit Fréchet\n",
    "        U = np.random.uniform(0, 1, size=n)\n",
    "        Y_X = 1 / -np.log(n / (n + 1) * U)\n",
    "\n",
    "        u  = np.quantile(Y_X, u_quantile)\n",
    "\n",
    "        def f(x):\n",
    "            return 0.2 * np.sin(3 * np.pi * (x - 1)**1) + 0.4 + 1/(u**2)\n",
    "\n",
    "        mask = Y_X > u\n",
    "        X_masked = X[mask]\n",
    "        f_X_masked = f(X_masked)\n",
    "        I_X = np.zeros(n, dtype=int)\n",
    "        I_X[mask] = np.random.binomial(1, f_X_masked)\n",
    "\n",
    "        # Dataframe\n",
    "        df = pd.DataFrame({'X': X, 'Y_X': Y_X, 'I_X': I_X})\n",
    "        df_sorted = df.sort_values('X')\n",
    "        df_sim = df_sorted[df_sorted['Y_X'] > u]\n",
    "\n",
    "        # Neural inputs\n",
    "        x_train_cl = df_sim['X'].values\n",
    "        y_train_cl = df_sim['I_X'].values\n",
    "\n",
    "        x_train_tensor = torch.tensor(x_train_cl, dtype=torch.float32).view(-1, 1)\n",
    "        y_train_tensor = torch.tensor(y_train_cl, dtype=torch.long)\n",
    "\n",
    "        model = KAN(width=[1, 2], grid=2, k=3)\n",
    "\n",
    "        dataset = {\n",
    "            'train_input': x_train_tensor,\n",
    "            'train_label': y_train_tensor,\n",
    "            'test_input': x_train_tensor,\n",
    "            'test_label': y_train_tensor\n",
    "        }\n",
    "\n",
    "        model.fit(dataset, opt=\"LBFGS\", steps=100, loss_fn=torch.nn.CrossEntropyLoss())\n",
    "\n",
    "        x_cl_tensor = torch.tensor(x_cl, dtype=torch.float32).view(-1, 1)\n",
    "        with torch.no_grad():\n",
    "            Z = model(x_cl_tensor)\n",
    "            Z = torch.softmax(Z, dim=1)\n",
    "            probabilities1 = Z[:, 1].numpy()\n",
    "        \n",
    "        probabilities_all.append(probabilities1)\n",
    "\n",
    "    probabilities_all = np.array(probabilities_all)\n",
    "    \n",
    "    return probabilities_all, x_cl"
   ]
  },
  {
   "cell_type": "code",
   "execution_count": null,
   "metadata": {},
   "outputs": [],
   "source": [
    "probabilities_all_2, x_cl = MC_A2(500, 15000)"
   ]
  },
  {
   "cell_type": "code",
   "execution_count": null,
   "metadata": {},
   "outputs": [],
   "source": [
    "def f(x):\n",
    "    return 0.2 * np.sin(3 * np.pi * (x - 1)**1) + 0.4\n",
    "\n",
    "monte_carlo_mean_2 = np.mean(probabilities_all_2, axis=0)\n",
    "f_x_cl = f(x_cl)\n",
    "\n",
    "squared_difference_2 = (monte_carlo_mean_2 - f_x_cl) ** 2\n",
    "mise_2 = np.trapz(squared_difference_2, x_cl)\n",
    "\n",
    "print('MISE: ' + str(mise_2))\n",
    "\n",
    "fig, ax = plt.subplots(figsize=(6, 4))\n",
    "\n",
    "for probs in probabilities_all_2:\n",
    "    ax.plot(x_cl, probs, color='gray', linewidth=1, alpha = 0.1) \n",
    "\n",
    "ax.plot(x_cl, monte_carlo_mean_2, color='red', linewidth=2)\n",
    "\n",
    "ax.plot(x_cl, f_x_cl, color='black', linewidth=2, linestyle='--')\n",
    "\n",
    "ax.set_xlabel(r'$x$', fontsize=12) \n",
    "ax.set_ylabel(r'$\\alpha_I(x)$', fontsize=12)\n",
    "ax.set_ylim(0, 1)\n",
    "\n",
    "plt.show()"
   ]
  }
 ],
 "metadata": {
  "kernelspec": {
   "display_name": "Python 3",
   "language": "python",
   "name": "python3"
  },
  "language_info": {
   "codemirror_mode": {
    "name": "ipython",
    "version": 3
   },
   "file_extension": ".py",
   "mimetype": "text/x-python",
   "name": "python",
   "nbconvert_exporter": "python",
   "pygments_lexer": "ipython3",
   "version": "3.9.6"
  }
 },
 "nbformat": 4,
 "nbformat_minor": 2
}
